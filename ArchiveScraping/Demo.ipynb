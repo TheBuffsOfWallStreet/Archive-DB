{
 "cells": [
  {
   "cell_type": "code",
   "execution_count": 1,
   "metadata": {},
   "outputs": [],
   "source": [
    "import Archive\n",
    "import Segment"
   ]
  },
  {
   "cell_type": "code",
   "execution_count": 2,
   "metadata": {},
   "outputs": [
    {
     "name": "stdout",
     "output_type": "stream",
     "text": [
      "Fetching segments on page 0, found 0 segments already\n",
      "Found 10000 segments, 39430 remaining\n"
     ]
    }
   ],
   "source": [
    "# searchAllSegments uses the scraping API and the cursor feature to fetch all results to the (hardcoded) query.\n",
    "# It will return all results, or exit early if it reaches the max_len specified with its argument.\n",
    "# max_len defaults to 100,000 but the Query has less than 50,000 results so if not specified, it will return all results.\n",
    "search_segments = Archive.searchAllSegments(100)\n",
    "# This would return all results\n",
    "#search_segments = Archive.searchAllSegments()"
   ]
  },
  {
   "cell_type": "code",
   "execution_count": 3,
   "metadata": {},
   "outputs": [
    {
     "name": "stderr",
     "output_type": "stream",
     "text": [
      "/Users/royce/Workspace/Edgar/Archive/Archive.py:28: GuessedAtParserWarning: No parser was explicitly specified, so I'm using the best available HTML parser for this system (\"lxml\"). This usually isn't a problem, but if you run this code on another system, or in a different virtual environment, it may use a different parser and behave differently.\n",
      "\n",
      "The code that caused this warning is on line 28 of the file /Users/royce/Workspace/Edgar/Archive/Archive.py. To get rid of this warning, pass the additional argument 'features=\"lxml\"' to the BeautifulSoup constructor.\n",
      "\n",
      "  page = soup(res.text)\n"
     ]
    },
    {
     "name": "stdout",
     "output_type": "stream",
     "text": [
      "WARNING: Failed to fetch segment 0 at https://archive.org/details/tobacco_dwb77c00 due to error 'NoneType' object has no attribute 'find'\n",
      "WARNING: Failed to fetch segment 1 at https://archive.org/details/wusb-2600-off-the-wall-2003-11-04 due to error 'NoneType' object has no attribute 'find'\n",
      "WARNING: Failed to fetch segment 2 at https://archive.org/details/fsrn_20050722 due to error 'NoneType' object has no attribute 'find'\n",
      "WARNING: Failed to fetch segment 3 at https://archive.org/details/linktv_latin_pulse20080505 due to error 'NoneType' object has no attribute 'find'\n",
      "WARNING: Failed to fetch segment 4 at https://archive.org/details/MediaMonarchyEpisode064 due to error 'NoneType' object has no attribute 'find'\n",
      "WARNING: Failed to fetch segment 5 at https://archive.org/details/MediaMonarchyEpisode091 due to error 'NoneType' object has no attribute 'find'\n",
      "WARNING: Failed to fetch segment 6 at https://archive.org/details/MediaMonarchyEpisode094 due to error 'NoneType' object has no attribute 'find'\n",
      "WARNING: Failed to fetch segment 7 at https://archive.org/details/MediaMonarchyEpisode097 due to error 'NoneType' object has no attribute 'find'\n",
      "WARNING: Failed to fetch segment 8 at https://archive.org/details/tth_081215 due to error 'NoneType' object has no attribute 'find'\n",
      "WARNING: Failed to fetch segment 9 at https://archive.org/details/podcast_pac-insights_no-strings-attached-e-news-ent_1000339011721 due to error 'NoneType' object has no attribute 'find'\n",
      "WARNING: Failed to fetch segment 10 at https://archive.org/details/dom-26234-triplers due to error 'NoneType' object has no attribute 'find'\n",
      "WARNING: Failed to fetch segment 11 at https://archive.org/details/MediaMonarchyEpisode117 due to error 'NoneType' object has no attribute 'find'\n",
      "WARNING: Failed to fetch segment 13 at https://archive.org/details/GRITtv_-_Andrea_Batista_Schlesinger_-_The_Death_of_Why_pt_1_2 due to error 'NoneType' object has no attribute 'find'\n",
      "WARNING: Failed to fetch segment 14 at https://archive.org/details/GRITtv_-_Andrea_Batista_Schlesinger_-_The_Death_of_Why_pt_2_2 due to error 'NoneType' object has no attribute 'find'\n",
      "WARNING: Failed to fetch segment 19 at https://archive.org/details/MediaMonarchyEpisode134 due to error 'NoneType' object has no attribute 'find'\n",
      "WARNING: Failed to fetch segment 24 at https://archive.org/details/FOXNEWS_20090808_190000_Americas_News_HQ due to error 'NoneType' object has no attribute 'text'\n",
      "WARNING: Failed to fetch segment 32 at https://archive.org/details/MediaMonarchyEpisode139 due to error 'NoneType' object has no attribute 'find'\n",
      "WARNING: Failed to fetch segment 36 at https://archive.org/details/FOXNEWS_20091010_160000_Americas_News_HQ due to error 'NoneType' object has no attribute 'text'\n"
     ]
    }
   ],
   "source": [
    "# Given a list of segment objects (from searchAllSegments), downloadPages will attempt to fetch the page, parse the information, and save it to disk in the specified folder.\n",
    "# Some pages fail because they don't have captions or are in an unexpected format. Usually they are older segments.\n",
    "# Files are stored in as a json string. This keeps text and metadata information together in the same file and is easy to load into a dictionary.\n",
    "# I'm using a subset of the list so it doesn't run for too long.\n",
    "Archive.downloadPages(search_segments[:50], folder_name='Demo')"
   ]
  },
  {
   "cell_type": "code",
   "execution_count": 4,
   "metadata": {},
   "outputs": [
    {
     "data": {
      "text/plain": [
       "(30,\n",
       " ['Demo/Late Night With Jimmy Fallon/NBC November 11, 2009 3:05am-4:00am EST.txt',\n",
       "  'Demo/Late Night With Jimmy Fallon/NBC November 4, 2009 12:35am-1:35am EST.txt',\n",
       "  'Demo/American Morning/CNN September 11, 2009 6:00am-9:00am EDT.txt',\n",
       "  'Demo/American Morning/CNN November 25, 2009 6:00am-9:00am EST.txt',\n",
       "  'Demo/Larry King Live/CNN August 8, 2009 9:00pm-10:00pm EDT.txt'])"
      ]
     },
     "execution_count": 4,
     "metadata": {},
     "output_type": "execute_result"
    }
   ],
   "source": [
    "# listLocalSegments returns all segment files in the specified local folder.\n",
    "local_segments = Archive.listLocalSegments('Demo')\n",
    "len(local_segments), local_segments[:5]"
   ]
  },
  {
   "cell_type": "code",
   "execution_count": 5,
   "metadata": {},
   "outputs": [
    {
     "data": {
      "text/plain": [
       "{'Topics': ['Jason Sudeikis',\n",
       "  'New York',\n",
       "  'Matt Bomer',\n",
       "  'Kansas',\n",
       "  'Johnny',\n",
       "  'Taylor',\n",
       "  'Higgins',\n",
       "  'Gordon Heavyhand',\n",
       "  'Richard Simmons',\n",
       "  'Mike Trush',\n",
       "  'Jon Bovi',\n",
       "  'New York City',\n",
       "  'Boston',\n",
       "  'Esurance',\n",
       "  'Kirk',\n",
       "  'Reba Mcentire',\n",
       "  'Geico',\n",
       "  'S.c.',\n",
       "  'Oreck Power Team',\n",
       "  'Johnson'],\n",
       " 'Network': 'NBC',\n",
       " 'Duration': '00:55:00',\n",
       " 'Title': 'Late Night With Jimmy Fallon',\n",
       " 'Datetime': 'NBC November 11, 2009 3:05am-4:00am EST'}"
      ]
     },
     "execution_count": 5,
     "metadata": {},
     "output_type": "execute_result"
    }
   ],
   "source": [
    "# Open a file by passing the path to the file which can be found using listLocalSegments above or provided manually.\n",
    "# Returns a Segment class that parses the JSON data from the file.\n",
    "segment = Segment.openFile(local_segments[0])\n",
    "# Read the metadata with the info function.\n",
    "segment.info()"
   ]
  },
  {
   "cell_type": "code",
   "execution_count": 6,
   "metadata": {},
   "outputs": [
    {
     "name": "stdout",
     "output_type": "stream",
     "text": [
      "♪ [ cheers and applause ] >> jimmy: thank you very, very much, everybody. thank you, thank you. welcome. welcome to the \"late night with jimmy fallon,\" everybody. welcome, happy tuesday. it's election day. and i voted here in new york this morning. it's not like the last election i voted in. you don't text in your vote. you guys know that? [ laughter ] you have to go wait in line and there's a machine -- the word lambert isn't anywhere. it's just awful. i thought it was nice, so everyone who voted got an \"i voted\" swine flu mask to leave with. [ laughter ] so, that was thoughtful. things are looking good for new york city mayor michael bloomberg, looks like he's going to win a third term. [ applause ] yeah, of course, he's spent the most money in new york electoral history, just barely exceeding the new york yankees' salary cap. [ laughter ] are you guys watching the series? [ cheers and applause ] you guys watching it, too? [ cheers ] tough loss for the yankees last night, but history was made when the phillies' chase utletied the all-time record for home runs in a world series. [ cheers and boos ] he hit five. the yankees are like, \"that guy's great, can we buy him.\" that'll be so cool. [ laughter ] oh, yeah, oh, yeah. oh, yeah. >> questlove: no. >> jimmy: i just read this. in his first year in office president obama has traveled to 16 foreign countries, more than any other president in history. bush only traveled to 11, but most of those were just different parts \"it's a small world\" ride. and that was -- he counted those. he was like -- \"can i get on this ride? here's my passport.\" and they were like, \"no, you don't need your\" -- this is an interesting story, a british musician has completed a new george harrison song after finding a scrap of paper with notes only on by the former beatle. he wrote on these notes. and this guy made a song about it. i'm so excited about it. the song is called \"shopping list.\" [ laughter ] and it should be -- ♪ i want to buy some eggs can't be how that goes. hey, guys, doug baron. doug baron fans out there? [ audience member yells ] [ laughter ] [ cheers and applause ] >> jimmy: there you are. i knew it was you. how's it going tonight? [ laughter ] doug baron just became the very first professional golfer to be suspended for taking performance-enhancing drugs. [ audience boos ] boo that big guy up there. the big fan. there he is. officials became suspicious when he hit six home runs and a triple on the back nine. they were like, \"that's impossible.\" you guys, a new study found that experiencing bad moods can actually boost your memory. which explains why your wife get's mad and she suddenly remembers everything you've ever done, ever. [ laughter ] \"oh, really you didn't mean to? is that what you said when you left the wet laundry in the washer in 1998.\" [ laughter ] researchers in england found that just a half hour of light exercise three times a week can reduce e risk of heart attack by 60%. and americans are \n"
     ]
    }
   ],
   "source": [
    "# Read the caption text using the text function.\n",
    "print(segment.text()[:3000])"
   ]
  },
  {
   "cell_type": "code",
   "execution_count": 7,
   "metadata": {},
   "outputs": [
    {
     "name": "stdout",
     "output_type": "stream",
     "text": [
      "3:05 am : ♪ [ cheers and applause ] >> jimmy: thank you very, very much, everybody. thank you, thank you. welcome. welcome to the \"late night with jimmy fallon,\" everybody. welcome, happy tuesday. it's election day. and i voted here in new york this morning. it's not like the last election i voted in. you don't text in your vote. you guys know that? [ laughter ] you have to go wait in line and there's a machine -- the word lambert isn't anywhere. it's just awful. i thought it was nice, so everyone who voted got an \"i voted\" swine flu mask to leave with. [ laughter ] so, that was thoughtful. things are looking good for new york city mayor michael bloomberg, looks like he's going to win a third term. [ applause ] yeah, of course, he's spent the most money in new york electoral history, just barely exceeding the new york yankees' salary cap. [ laughter ] are you guys watching the series? [ cheers and applause ] you guys watching it, too?\n",
      "\n",
      "3:06 am : [ cheers ] tough loss for the yankees last night, but history was made when the phillies' chase utletied the all-time record for home runs in a world series. [ cheers and boos ] he hit five. the yankees are like, \"that guy's great, can we buy him.\" that'll be so cool. [ laughter ] oh, yeah, oh, yeah. oh, yeah. >> questlove: no. >> jimmy: i just read this. in his first year in office president obama has traveled to 16 foreign countries, more than any other president in history. bush only traveled to 11, but most of those were just different parts \"it's a small world\" ride. and that was -- he counted those. he was like -- \"can i get on this ride? here's my passport.\" and they were like, \"no, you don't need your\" -- this is an interesting story, a british musician has completed a new george harrison song after finding a scrap of paper with notes only on by the former beatle.\n",
      "\n",
      "3:07 am : he wrote on these notes. and this guy made a song about it. i'm so excited about it. the song is called \"shopping list.\" [ laughter ] and it should be -- ♪ i want to buy some eggs can't be how that goes. hey, guys, doug baron. doug baron fans out there? [ audience member yells ] [ laughter ] [ cheers and applause ] >> jimmy: there you are. i knew it was you. how's it going tonight? [ laughter ] doug baron just became the very first professional golfer to be suspended for taking performance-enhancing drugs. [ audience boos ] boo that big guy up there. the big fan. there he is. officials became suspicious when he hit six home runs and a triple on the back nine.\n",
      "\n",
      "3:08 am : they were like, \"that's impossible.\" you guys, a new study found that experiencing bad moods can actually boost your memory. which explains why your wife get's mad and she suddenly remembers everything you've ever done, ever. [ laughter ] \"oh, really you didn't mean to? is that what you said when you left the wet laundry in the washer in 1998.\" [ laughter ] researchers in england found that just a half hour of light exercise three times a week can reduce e risk\n"
     ]
    }
   ],
   "source": [
    "# Read the minute-by-minute snippets with the snippets function\n",
    "# returns a formatted string so we can't programmatically access the time. Use the content property to do that (see below).\n",
    "print(segment.snippets()[:3000])"
   ]
  },
  {
   "cell_type": "code",
   "execution_count": 8,
   "metadata": {},
   "outputs": [
    {
     "name": "stdout",
     "output_type": "stream",
     "text": [
      "3:05 am ♪ [ cheers and applause ] >> jimmy: thank you very, very much, everybody. thank you, thank you. welc\n",
      "3:06 am [ cheers ] tough loss for the yankees last night, but history was made when the phillies' chase utle\n",
      "3:07 am he wrote on these notes. and this guy made a song about it. i'm so excited about it. the song is cal\n",
      "3:08 am they were like, \"that's impossible.\" you guys, a new study found that experiencing bad moods can act\n",
      "3:09 am >> jimmy: hey. we g a great show, you guys. anyone see \"gossip girl\" last night? [ cheers ] yeah, i \n",
      "3:10 am matt bomer is joining us. [ cheers and applause ] he's good. he's hot. and we have a performance fro\n",
      "3:11 am \"gonna make sweet love\" -- hilarious. well, anyway, today is election day and i'm almost afraid t as\n",
      "3:12 am our patriotic duty ow ♪ [ laughter ] ♪ time for me to tap that patriotic booty tap that booty ♪ ♪ do\n",
      "3:13 am [ laughter ] ♪ make sweet sweet love to your woman this election day ♪ ♪ make sweet love to your wom\n",
      "3:14 am and yogurty clusters, it's raisin bran with so much extra. ♪ raisin bran extra! it's a mouthful of a\n"
     ]
    }
   ],
   "source": [
    "# Access the content using the content property.\n",
    "for time, snippet in segment.content['snippets'][:10]:\n",
    "    print(time, snippet[:100])"
   ]
  },
  {
   "cell_type": "code",
   "execution_count": 9,
   "metadata": {},
   "outputs": [
    {
     "name": "stdout",
     "output_type": "stream",
     "text": [
      "Content dict_keys(['snippets', 'metadata'])\n",
      "Metadata dict_keys(['Topics', 'Network', 'Duration', 'Title', 'Datetime'])\n"
     ]
    }
   ],
   "source": [
    "# The content property is a dict with the following format,\n",
    "'''\n",
    "{\n",
    "  'snippets': [ [time, snippet_text], [time, snippet_text], ...]\n",
    "  'metadata': {\n",
    "      'Topics': [ 'Topic1', 'Topic2', ...],\n",
    "      'Netork': 'Bloomberg',\n",
    "      'Duration': '1:00:00',\n",
    "      ...\n",
    "  }\n",
    "}\n",
    "'''\n",
    "print('Content', segment.content.keys())\n",
    "print('Metadata', segment.content['metadata'].keys())"
   ]
  },
  {
   "cell_type": "code",
   "execution_count": null,
   "metadata": {},
   "outputs": [],
   "source": []
  }
 ],
 "metadata": {
  "kernelspec": {
   "display_name": "Python 3",
   "language": "python",
   "name": "python3"
  },
  "language_info": {
   "codemirror_mode": {
    "name": "ipython",
    "version": 3
   },
   "file_extension": ".py",
   "mimetype": "text/x-python",
   "name": "python",
   "nbconvert_exporter": "python",
   "pygments_lexer": "ipython3",
   "version": "3.8.5"
  }
 },
 "nbformat": 4,
 "nbformat_minor": 4
}
