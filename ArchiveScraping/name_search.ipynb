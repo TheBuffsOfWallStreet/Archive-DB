{
 "cells": [
  {
   "cell_type": "code",
   "execution_count": null,
   "metadata": {},
   "outputs": [],
   "source": [
    "import nltk\n",
    "import pandas as pd\n",
    "from nltk.tag import StanfordNERTagger\n",
    "from nltk.tokenize import word_tokenize\n",
    "\n",
    "# TO use Stanford Named Entity Recognizer, you need to download file first\n",
    "# Download website link: https://nlp.stanford.edu/software/CRF-NER.html\n",
    "\n",
    "jar = '/Users/ztwhhh/Desktop/stanford-ner-4.0.0/stanford-ner.jar'\n",
    "model = '/Users/ztwhhh/Desktop/stanford-ner-4.0.0/english.all.3class.distsim.crf.ser.gz'\n",
    "ner_tagger = StanfordNERTagger(model, jar, encoding = 'utf8')"
   ]
  },
  {
   "cell_type": "code",
   "execution_count": null,
   "metadata": {},
   "outputs": [],
   "source": [
    "def name_search(file_path):\n",
    "\n",
    "    df = pd.read_csv(file_path)\n",
    "    description = df['Description']\n",
    "\n",
    "    for sentence in description:\n",
    "        tokens = nltk.word_tokenize(sentence)\n",
    "        tags = ner_tagger.tag(tokens)\n",
    "        name = \"\"\n",
    "        \n",
    "        for tag in tags:\n",
    "            if tag[1] == 'PERSON':\n",
    "                name = name + \" \" + tag[0]\n",
    "        print(name)\n",
    "        \n",
    "# For now, just print the name, to prove the feasibility of the program"
   ]
  },
  {
   "cell_type": "code",
   "execution_count": null,
   "metadata": {},
   "outputs": [],
   "source": [
    "name_search('/Users/ztwhhh/Desktop/Name_search/bloomberg.tv.2.csv')"
   ]
  },
  {
   "cell_type": "code",
   "execution_count": null,
   "metadata": {},
   "outputs": [],
   "source": []
  }
 ],
 "metadata": {
  "kernelspec": {
   "display_name": "Python 3",
   "language": "python",
   "name": "python3"
  },
  "language_info": {
   "codemirror_mode": {
    "name": "ipython",
    "version": 3
   },
   "file_extension": ".py",
   "mimetype": "text/x-python",
   "name": "python",
   "nbconvert_exporter": "python",
   "pygments_lexer": "ipython3",
   "version": "3.8.3"
  }
 },
 "nbformat": 4,
 "nbformat_minor": 4
}
