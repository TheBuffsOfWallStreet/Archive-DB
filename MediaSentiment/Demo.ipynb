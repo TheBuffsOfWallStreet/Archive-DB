{
 "cells": [
  {
   "cell_type": "code",
   "execution_count": 1,
   "metadata": {},
   "outputs": [],
   "source": [
    "import Datastore as ds"
   ]
  },
  {
   "cell_type": "code",
   "execution_count": 2,
   "metadata": {},
   "outputs": [
    {
     "name": "stdout",
     "output_type": "stream",
     "text": [
      "Fetching episodes on page 0, found 0 episodes already\n",
      "Found 100 episodes, 49456 remaining\n",
      "Fetching Episode 0 (0.00% done, 0.00% failed)\r"
     ]
    },
    {
     "name": "stderr",
     "output_type": "stream",
     "text": [
      "/Users/royce/Workspace/Classes/Capstone/Sponsor/ArchiveScraping/Scrape.py:41: GuessedAtParserWarning: No parser was explicitly specified, so I'm using the best available HTML parser for this system (\"lxml\"). This usually isn't a problem, but if you run this code on another system, or in a different virtual environment, it may use a different parser and behave differently.\n",
      "\n",
      "The code that caused this warning is on line 41 of the file /Users/royce/Workspace/Classes/Capstone/Sponsor/ArchiveScraping/Scrape.py. To get rid of this warning, pass the additional argument 'features=\"lxml\"' to the BeautifulSoup constructor.\n",
      "\n",
      "  return parseEpisode(soup(res.text))\n"
     ]
    },
    {
     "name": "stdout",
     "output_type": "stream",
     "text": [
      "Fetching Episode 99 (99.00% done, 24.00% failed)\r"
     ]
    }
   ],
   "source": [
    "# Download is now easier to use. If you dont provide a value for n, it will return 'all' results (max 50000)\n",
    "ds.downloadEpisodes(folder_name='Demo', n=100)"
   ]
  },
  {
   "cell_type": "code",
   "execution_count": 3,
   "metadata": {},
   "outputs": [
    {
     "name": "stdout",
     "output_type": "stream",
     "text": [
      "Demo/MSNBC Live/MSNBC_September_13_2020_1100am-1200pm_PDT.json\n",
      "Demo/MSNBC Live/MSNBC_September_13_2020_100pm-200pm_PDT.json\n",
      "Demo/Late Night With Jimmy Fallon/NBC_November_11_2009_305am-400am_EST.json\n",
      "Demo/Late Night With Jimmy Fallon/NBC_November_4_2009_1235am-135am_EST.json\n",
      "Demo/American Morning/CNN_November_25_2009_600am-900am_EST.json\n"
     ]
    }
   ],
   "source": [
    "# Look at all the files you downloaded.\n",
    "files = [file for file in ds.filesGenerator(folder_name='Demo')]\n",
    "for file in files[:5]: print(file)"
   ]
  },
  {
   "cell_type": "code",
   "execution_count": 4,
   "metadata": {},
   "outputs": [
    {
     "name": "stdout",
     "output_type": "stream",
     "text": [
      "{'Topics': ['Joe Biden', 'Nevada', 'Biden', 'United States', 'Michigan', 'Washington', 'Woodward', 'Safelite', 'Florida', 'California', 'Msnbc', 'Allstate', 'U.s.', 'Michael Bloomberg', 'Bob Woodward', 'Donald Trump', 'Mindon', 'Oregon', 'Las Vegas', 'Usaa'], 'Network': 'MSNBC', 'Duration': '01:00:56', 'Scanned in': 'San Francisco, CA, USA', 'Source': 'Comcast Cable', 'Tuner': 'Virtual Ch. 787', 'Title': 'MSNBC Live', 'AirDate': 'MSNBC September 13, 2020 11:00am-12:00pm PDT', 'Date': 'September 13, 2020'}\n"
     ]
    }
   ],
   "source": [
    "# The episode generator returns episode objects instead of file paths.\n",
    "episode = next(ds.allEpisodes('Demo'))\n",
    "print(episode.info())"
   ]
  },
  {
   "cell_type": "code",
   "execution_count": 5,
   "metadata": {},
   "outputs": [
    {
     "name": "stdout",
     "output_type": "stream",
     "text": [
      "another day closer to the election, and the messaging from both campaigns to win your vote could not be any more different. >> now i can be really vicious. i can be really vicious. and we'll start by saying we're going to start by saying that the democrats are trying to rig this election. because it's the only way they're going to win. >> we will need to make sure you have a president in the white house who actually sees you, who understands your needs, who understands the dignity of your work and who has your back. >> fresh today, the latest national polling from fox news shows biden up by five points, sitting right at the margin of error. and as criticism mounts over the president's interview with bob woodward, who encouraged him to do it? we have that answer, and why he was itching to sit down with the famed journalist.   meanwhile, the presidential campaigns are far from the minds of hundreds of thousands of people on the west coast. there was little relief overnight on those historic wildfires. and fears are growing in oregon, as forecasts show strong winds that could help trigger new fires. plus, accusations that trump officials interfered with cdc reports on coronavirus. why alex azar is saying about that. >> also, i'll ask the attorney general of the crucial background state of michigan what's being done to speed up vote counting. >> but we begin with president trump and his efforts to try to appeal to voters in the battleground state of nevada. trump is campaigning in the state for a second day after his rally outside carson city last night. he has multiple events in las vegas before heading off to henderson, nevada, this evening. the latest polling on the swing state from \"the new york times\" has former vice president biden with a four-point lead over the president. nbc's josh lederman is at the white house and joins me now. josh, he lost the state in 2016. what did we learn from trump's rally last night about the campaign strategy? >> well, lindsey, if you were to ask me or pretty much anyone in washington a week ago who the trump campaign was really targeting in these last two months of the election, we would have said the president's longtime political base. largely white working class voters who helped to elect him four years ago. but in the last couple days, we have really seen a shift in focus where the trump campaign is now putting a real laser focus, at least for this weekend and the next couple days, on latino voters. one of the reasons is some of the polling that they're seeing, especially in florida, but also in some other parts of the country that suggests that joe biden is actually underperforming with latino voters and there could be an opening there, if not for trump to get anywhere near winning a majority of hispanic voters, to at least do better than he had in the past, change the margins there. but if president trump is hoping to win over more latino voters, he has a funny way of making that case. as he was rallying la\n"
     ]
    }
   ],
   "source": [
    "# Read the caption text using the text function.\n",
    "print(episode.text()[:3000])"
   ]
  },
  {
   "cell_type": "code",
   "execution_count": 6,
   "metadata": {},
   "outputs": [
    {
     "name": "stdout",
     "output_type": "stream",
     "text": [
      "11:00 am : another day closer to the election, and the messaging from both campaigns to win your vote could not be any more different. >> now i can be really vicious. i can be really vicious. and we'll start by saying we're going to start by saying that the democrats are trying to rig this election. because it's the only way they're going to win. >> we will need to make sure you have a president in the white house who actually sees you, who understands your needs, who understands the dignity of your work and who has your back. >> fresh today, the latest national polling from fox news shows biden up by five points, sitting right at the margin of error. and as criticism mounts over the president's interview with bob woodward, who encouraged him to do it? we have that answer, and why he was itching to sit down with the famed journalist.   meanwhile, the presidential campaigns are far from the minds of hundreds of thousands of\n",
      "\n",
      "11:01 am : people on the west coast. there was little relief overnight on those historic wildfires. and fears are growing in oregon, as forecasts show strong winds that could help trigger new fires. plus, accusations that trump officials interfered with cdc reports on coronavirus. why alex azar is saying about that. >> also, i'll ask the attorney general of the crucial background state of michigan what's being done to speed up vote counting. >> but we begin with president trump and his efforts to try to appeal to voters in the battleground state of nevada. trump is campaigning in the state for a second day after his rally outside carson city last night. he has multiple events in las vegas before heading off to henderson, nevada, this evening. the latest polling on the swing state from \"the new york times\" has former vice president biden with a four-point lead over the president. nbc's josh lederman is at the white house and joins me now. josh, he lost the state in 2016. what did we learn from trump's\n",
      "\n",
      "11:02 am : rally last night about the campaign strategy? >> well, lindsey, if you were to ask me or pretty much anyone in washington a week ago who the trump campaign was really targeting in these last two months of the election, we would have said the president's longtime political base. largely white working class voters who helped to elect him four years ago. but in the last couple days, we have really seen a shift in focus where the trump campaign is now putting a real laser focus, at least for this weekend and the next couple days, on latino voters. one of the reasons is some of the polling that they're seeing, especially in florida, but also in some other parts of the country that suggests that joe biden is actually underperforming with latino voters and there could be an opening there, if not for trump to get anywhere near winning a majority of hispanic voters, to at least do better than he had in the past, change the margins there. but if president trump is hoping to win over more latino voters, he has a funny way of maki\n"
     ]
    }
   ],
   "source": [
    "# Read the minute-by-minute snippets with the snippets function\n",
    "# returns a formatted string so we can't programmatically access the time. Use the content property to do that (see below).\n",
    "print(episode.snippets()[:3000])"
   ]
  },
  {
   "cell_type": "code",
   "execution_count": 7,
   "metadata": {},
   "outputs": [
    {
     "name": "stdout",
     "output_type": "stream",
     "text": [
      "11:00 am another day closer to the election, and the messaging from both campaigns to win your vote could not\n",
      "11:01 am people on the west coast. there was little relief overnight on those historic wildfires. and fears a\n",
      "11:02 am rally last night about the campaign strategy? >> well, lindsey, if you were to ask me or pretty much\n",
      "11:03 am nevada, he used several stereotypes about latinos. listen to his rally in mindon. >> for the last fo\n",
      "11:04 am reach hispanic voters by using those stereotypes. i have to move on to the next question. today, hhs\n",
      "11:05 am pompeo's lavish taxpayer funded so-called madison dinners. and those were happening really until the\n",
      "11:06 am with bob woodward. that interview, of course, included controversial revelations on the president's \n",
      "11:07 am good light, by the way. >> no, absolutely not. and neither does this one as well. but this one, one \n",
      "11:08 am is something we're hearing from right-wing media as well, senator lindsey graham, a close trump conf\n",
      "11:09 am certain instances. >> if so many advisers were in the room where it happens, it doesn't make sense t\n"
     ]
    }
   ],
   "source": [
    "# Access the content using the content property.\n",
    "for time, snippet in episode.content['snippets'][:10]:\n",
    "    print(time, snippet[:100])"
   ]
  },
  {
   "cell_type": "code",
   "execution_count": 8,
   "metadata": {},
   "outputs": [
    {
     "name": "stdout",
     "output_type": "stream",
     "text": [
      "unknown : another day closer to the election, and the messaging from both campaigns to win your vote could not be any more different.\n",
      "\n",
      "unknown : now i can be really vicious. i can be really vicious. and we'll start by saying we're going to start by saying that the democrats are trying to rig this election. because it's the only way they're going to win.\n",
      "\n",
      "unknown : we will need to make sure you have a president in the white house who actually sees you, who understands your needs, who understands the dignity of your work and who has your back.\n",
      "\n",
      "unknown : fresh today, the latest national polling from fox news shows biden up by five points, sitting right at the margin of error. and as criticism mounts over the president's interview with bob woodward, who encouraged him to do it? we have that answer, and why he was itching to sit down with the famed journalist.   meanwhile, the presidential campaigns are far from the minds of hundreds of thousands of people on the west coast. there was little relief overnight on those historic wildfires. and fears are growing in oregon, as forecasts show strong winds that could help trigger new fires. plus, accusations that trump officials interfered with cdc reports on coronavirus. why alex azar is saying about that.\n",
      "\n",
      "unknown : also, i'll ask the attorney general of the crucial background state of michigan what's being done to speed up vote counting.\n",
      "\n",
      "unknown : but we begin with president trump and his efforts to try to appeal to voters in the battleground state of nevada. trump is campaigning in the state for a second day after his rally outside carson city last night. he has multiple events in las vegas before heading off to henderson, nevada, this evening. the latest polling on the swing state from \"the new york times\" has former vice president biden with a four-point lead over the president. nbc's josh lederman is at the white house and joins me now. josh, he lost the state in 2016. what did we learn from trump's rally last night about the campaign strategy?\n",
      "\n",
      "unknown : well, lindsey, if you were to ask me or pretty much anyone in washington a week ago who the trump campaign was really targeting in these last two months of the election, we would have said the president's longtime political base. largely white working class voters who helped to elect him four years ago. but in the last couple days, we have really seen a shift in focus where the trump campaign is now putting a real laser focus, at least for this weekend and the next couple days, on latino voters. one of the reasons is some of the polling that they're seeing, especially in florida, but also in some other parts of the country that suggests that joe biden is actually underperforming with latino voters and there could be an opening there, if not for trump to get anywhere near winning a majority of hispanic voters, to at least do better than he had in the past, change the margins there. but if president trump is hoping to win over more latino voters, he \n"
     ]
    }
   ],
   "source": [
    "# See transcripts organized by speaker.\n",
    "print(episode.speakerText()[:3000])"
   ]
  },
  {
   "cell_type": "code",
   "execution_count": 9,
   "metadata": {},
   "outputs": [
    {
     "name": "stdout",
     "output_type": "stream",
     "text": [
      "Content dict_keys(['snippets', 'metadata'])\n",
      "Metadata dict_keys(['Topics', 'Network', 'Duration', 'Scanned in', 'Source', 'Tuner', 'Title', 'AirDate', 'Date'])\n"
     ]
    }
   ],
   "source": [
    "# The content property is a dict with the following format,\n",
    "'''\n",
    "{\n",
    "  'snippets': [ [time, snippet_text], [time, snippet_text], ...]\n",
    "  'metadata': {\n",
    "      'Topics': [ 'Topic1', 'Topic2', ...],\n",
    "      'Netork': 'Bloomberg',\n",
    "      'Duration': '1:00:00',\n",
    "      ...\n",
    "  }\n",
    "}\n",
    "'''\n",
    "print('Content', episode.content.keys())\n",
    "print('Metadata', episode.content['metadata'].keys())"
   ]
  },
  {
   "cell_type": "code",
   "execution_count": null,
   "metadata": {},
   "outputs": [],
   "source": []
  },
  {
   "cell_type": "code",
   "execution_count": null,
   "metadata": {},
   "outputs": [],
   "source": []
  }
 ],
 "metadata": {
  "kernelspec": {
   "display_name": "Python 3",
   "language": "python",
   "name": "python3"
  },
  "language_info": {
   "codemirror_mode": {
    "name": "ipython",
    "version": 3
   },
   "file_extension": ".py",
   "mimetype": "text/x-python",
   "name": "python",
   "nbconvert_exporter": "python",
   "pygments_lexer": "ipython3",
   "version": "3.8.5"
  }
 },
 "nbformat": 4,
 "nbformat_minor": 4
}
